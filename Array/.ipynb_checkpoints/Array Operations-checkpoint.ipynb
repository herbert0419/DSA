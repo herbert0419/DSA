{
 "cells": [
  {
   "cell_type": "code",
   "execution_count": 3,
   "id": "09dc2579",
   "metadata": {},
   "outputs": [
    {
     "name": "stdout",
     "output_type": "stream",
     "text": [
      "array('i', [1, 2, 3, 4])\n",
      "[1 2 3 4]\n"
     ]
    }
   ],
   "source": [
    "import array\n",
    "\n",
    "my_array = array.array('i',[1,2,3,4])\n",
    "print(my_array)\n",
    "\n",
    "\n",
    "import numpy as np\n",
    "my_array1 = np.array([1,2,3,4],dtype=int)\n",
    "print(my_array1)"
   ]
  },
  {
   "cell_type": "code",
   "execution_count": 6,
   "id": "3f8be898",
   "metadata": {},
   "outputs": [
    {
     "data": {
      "text/plain": [
       "array('i', [2, 1, 2, 3, 4])"
      ]
     },
     "execution_count": 6,
     "metadata": {},
     "output_type": "execute_result"
    }
   ],
   "source": [
    "my_array.insert(0,2)\n",
    "my_array"
   ]
  },
  {
   "cell_type": "code",
   "execution_count": 7,
   "id": "d85ad8c0",
   "metadata": {},
   "outputs": [
    {
     "data": {
      "text/plain": [
       "array([6, 1, 2, 3, 4])"
      ]
     },
     "execution_count": 7,
     "metadata": {},
     "output_type": "execute_result"
    }
   ],
   "source": [
    "np.insert(my_array1,0,6,axis=None)"
   ]
  },
  {
   "cell_type": "code",
   "execution_count": 2,
   "id": "b4a46d0d",
   "metadata": {},
   "outputs": [],
   "source": [
    "from array import *"
   ]
  },
  {
   "cell_type": "code",
   "execution_count": 4,
   "id": "3feccb19",
   "metadata": {},
   "outputs": [
    {
     "name": "stdout",
     "output_type": "stream",
     "text": [
      "array('i', [1, 2, 3, 4, 5, 6])\n"
     ]
    }
   ],
   "source": [
    "my_array2 = array('i',[1,2,3,4,5,6])\n",
    "print(my_array2)"
   ]
  },
  {
   "cell_type": "code",
   "execution_count": 5,
   "id": "a7135933",
   "metadata": {},
   "outputs": [
    {
     "name": "stdout",
     "output_type": "stream",
     "text": [
      "1\n",
      "2\n",
      "3\n",
      "4\n",
      "5\n",
      "6\n"
     ]
    }
   ],
   "source": [
    "def traverseArray(array):\n",
    "    for i in array:\n",
    "        print(i)\n",
    "        \n",
    "traverseArray(my_array2)"
   ]
  },
  {
   "cell_type": "code",
   "execution_count": 18,
   "id": "b15cc5ae",
   "metadata": {},
   "outputs": [],
   "source": [
    "def searchArray(array,index):\n",
    "        if index >= len(array):\n",
    "            print(\"There is no element in the array\")\n",
    "        else:\n",
    "            print(array[index])"
   ]
  },
  {
   "cell_type": "code",
   "execution_count": 19,
   "id": "dd70a566",
   "metadata": {},
   "outputs": [
    {
     "name": "stdout",
     "output_type": "stream",
     "text": [
      "4\n"
     ]
    }
   ],
   "source": [
    "searchArray(my_array2,3)"
   ]
  },
  {
   "cell_type": "code",
   "execution_count": 25,
   "id": "1d55077b",
   "metadata": {},
   "outputs": [],
   "source": [
    "def linearSearch(array,target):\n",
    "    for i in range(len(array)):\n",
    "        if array[i]==target:\n",
    "            return i\n",
    "    return -1"
   ]
  },
  {
   "cell_type": "code",
   "execution_count": 28,
   "id": "e73c26a8",
   "metadata": {},
   "outputs": [
    {
     "name": "stdout",
     "output_type": "stream",
     "text": [
      "-1\n"
     ]
    }
   ],
   "source": [
    "print(linearSearch(my_array2,8))"
   ]
  },
  {
   "cell_type": "code",
   "execution_count": 29,
   "id": "36c6a984",
   "metadata": {},
   "outputs": [
    {
     "name": "stdout",
     "output_type": "stream",
     "text": [
      "2\n"
     ]
    }
   ],
   "source": [
    "print(linearSearch(my_array2,3))"
   ]
  },
  {
   "cell_type": "code",
   "execution_count": null,
   "id": "a4612bfd",
   "metadata": {},
   "outputs": [],
   "source": []
  }
 ],
 "metadata": {
  "kernelspec": {
   "display_name": "shobhandeb",
   "language": "python",
   "name": "shobhandeb"
  },
  "language_info": {
   "codemirror_mode": {
    "name": "ipython",
    "version": 3
   },
   "file_extension": ".py",
   "mimetype": "text/x-python",
   "name": "python",
   "nbconvert_exporter": "python",
   "pygments_lexer": "ipython3",
   "version": "3.10.9"
  }
 },
 "nbformat": 4,
 "nbformat_minor": 5
}

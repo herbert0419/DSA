{
 "cells": [
  {
   "cell_type": "markdown",
   "metadata": {},
   "source": [
    "### Temperature Conversion"
   ]
  },
  {
   "cell_type": "code",
   "execution_count": 1,
   "metadata": {},
   "outputs": [
    {
     "name": "stdout",
     "output_type": "stream",
     "text": [
      "-17.77777777777778\n"
     ]
    }
   ],
   "source": [
    "def conversion(temperature,unit):\n",
    "    if unit == 'C':\n",
    "        return temperature * 9/5 +32\n",
    "    elif unit == 'F':\n",
    "        return 5/9 * (temperature-32)\n",
    "    else:\n",
    "        return None\n",
    "    \n",
    "print(conversion(0,'F'))"
   ]
  },
  {
   "cell_type": "markdown",
   "metadata": {},
   "source": [
    "### Password Strength Checker"
   ]
  },
  {
   "cell_type": "code",
   "execution_count": 15,
   "metadata": {},
   "outputs": [
    {
     "name": "stdout",
     "output_type": "stream",
     "text": [
      "Include special characters\n"
     ]
    }
   ],
   "source": [
    "spcl_chars = [\"@\", \"#\", \"!\", \"%\"]\n",
    "\n",
    "def is_password_strong(text):\n",
    "    contains_special_char = any(char in spcl_chars for char in text)\n",
    "    \n",
    "    if contains_special_char and len(text) >= 10:\n",
    "        return \"Strong password\"\n",
    "    elif contains_special_char and len(text) < 10:\n",
    "        return \"Adhere to password length policy\"\n",
    "    elif not contains_special_char and len(text) >= 10:\n",
    "        return \"Include special characters\"\n",
    "    else:\n",
    "        return \"Adhere to the password policy\"\n",
    "\n",
    "# Test the function\n",
    "print(is_password_strong(\"shobhan0000998)\"))\n"
   ]
  },
  {
   "cell_type": "code",
   "execution_count": 16,
   "metadata": {},
   "outputs": [
    {
     "name": "stdout",
     "output_type": "stream",
     "text": [
      "False\n",
      "True\n"
     ]
    }
   ],
   "source": [
    "def strong_pass(password):\n",
    "    if len(password)<8:\n",
    "        return False\n",
    "    if not any(char.isdigit() for char in password):\n",
    "        return False\n",
    "    if not any(char.islower() for char in password):\n",
    "        return False    \n",
    "    if not any(char.isupper() for char in password):\n",
    "        return False\n",
    "    if not any(char in '!@#$%' for char in password):\n",
    "        return False\n",
    "    return True\n",
    "\n",
    "\n",
    "print(strong_pass('WeakPwd'))\n",
    "print(strong_pass('Str0ngPwd!'))\n",
    "                  "
   ]
  },
  {
   "cell_type": "code",
   "execution_count": null,
   "metadata": {},
   "outputs": [],
   "source": []
  }
 ],
 "metadata": {
  "kernelspec": {
   "display_name": "base",
   "language": "python",
   "name": "python3"
  },
  "language_info": {
   "codemirror_mode": {
    "name": "ipython",
    "version": 3
   },
   "file_extension": ".py",
   "mimetype": "text/x-python",
   "name": "python",
   "nbconvert_exporter": "python",
   "pygments_lexer": "ipython3",
   "version": "3.11.3"
  }
 },
 "nbformat": 4,
 "nbformat_minor": 2
}

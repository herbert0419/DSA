{
 "cells": [
  {
   "cell_type": "markdown",
   "metadata": {},
   "source": [
    "### Temperature Conversion"
   ]
  },
  {
   "cell_type": "code",
   "execution_count": null,
   "metadata": {
    "vscode": {
     "languageId": "plaintext"
    }
   },
   "outputs": [],
   "source": [
    "def conversion(temperature,unit):\n",
    "    if unit == 'C':\n",
    "        return temperature * 9/5 +32\n",
    "    elif unit == 'F':\n",
    "        return 5/9 * (temperature-32)\n",
    "    else:\n",
    "        return None\n",
    "    \n",
    "print(conversion(0,'F'))"
   ]
  },
  {
   "cell_type": "code",
   "execution_count": null,
   "metadata": {
    "vscode": {
     "languageId": "plaintext"
    }
   },
   "outputs": [],
   "source": []
  }
 ],
 "metadata": {
  "language_info": {
   "name": "python"
  }
 },
 "nbformat": 4,
 "nbformat_minor": 2
}

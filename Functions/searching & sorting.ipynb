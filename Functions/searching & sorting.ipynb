{
 "cells": [
  {
   "cell_type": "code",
   "execution_count": 6,
   "metadata": {},
   "outputs": [
    {
     "name": "stdout",
     "output_type": "stream",
     "text": [
      "4\n"
     ]
    }
   ],
   "source": [
    "def linear_search(arr,target):\n",
    "    length = len(arr)\n",
    "    for index in range(0,length):\n",
    "        if arr[index]==target:\n",
    "             return index\n",
    "        \n",
    "    return -1\n",
    "\n",
    "my_arr = [80,75,55,63,45]\n",
    "print(linear_search(my_arr,45))\n"
   ]
  },
  {
   "cell_type": "code",
   "execution_count": 10,
   "metadata": {},
   "outputs": [
    {
     "name": "stdout",
     "output_type": "stream",
     "text": [
      "-1\n"
     ]
    }
   ],
   "source": [
    "def binary_search(arr,target):\n",
    "    size = len(arr)\n",
    "    start=0\n",
    "    end = size-1\n",
    "\n",
    "    while start<=end:\n",
    "        mid = (start+end)//2\n",
    "        if arr[mid]==target:\n",
    "            return mid\n",
    "        elif arr[mid]>target:\n",
    "            end = mid-1\n",
    "        elif arr[mid]<target:\n",
    "            start = mid+1\n",
    "    return -1\n",
    "\n",
    "sorted_array = [10,15,25,35,45,55,85]\n",
    "print(binary_search(sorted_array,7))"
   ]
  },
  {
   "cell_type": "code",
   "execution_count": 12,
   "metadata": {},
   "outputs": [
    {
     "name": "stdout",
     "output_type": "stream",
     "text": [
      "5\n"
     ]
    }
   ],
   "source": [
    "# def binary(arr, target):\n",
    "#     size = len(arr)\n",
    "#     start = 0\n",
    "#     end = size-1\n",
    "\n",
    "#     while start<=end:\n",
    "#         mid = (start+end)//2\n",
    "\n",
    "#         if arr[mid]==target:\n",
    "#             return mid\n",
    "#         elif arr[mid]>target:\n",
    "#             end = mid-1\n",
    "#         elif arr[mid]<target:\n",
    "#             start = mid+1\n",
    "\n",
    "#     return -1\n",
    "\n",
    "# sorted_array = [10,15,25,35,45,55,85]\n",
    "# print(binary(sorted_array,55))"
   ]
  },
  {
   "cell_type": "code",
   "execution_count": 31,
   "metadata": {},
   "outputs": [],
   "source": [
    "def count_vowels(s):\n",
    "    \"\"\"\n",
    "    Function to count the number of vowels in the input string.\n",
    "    \n",
    "    Parameters:\n",
    "    s (str): The input string to check for vowels.\n",
    "    \n",
    "    Returns:\n",
    "    int: The count of vowels in the input string.\n",
    "    \"\"\"\n",
    "    # Your code here\n",
    "    vowels = ['a','e','i','o','u']\n",
    "    count=[]\n",
    "    \n",
    "    for i in s.lower():\n",
    "        if i in vowels:\n",
    "            count.append(i)\n",
    "    return len(count)"
   ]
  },
  {
   "cell_type": "code",
   "execution_count": 32,
   "metadata": {},
   "outputs": [
    {
     "data": {
      "text/plain": [
       "2"
      ]
     },
     "execution_count": 32,
     "metadata": {},
     "output_type": "execute_result"
    }
   ],
   "source": [
    "count_vowels('shaan')"
   ]
  }
 ],
 "metadata": {
  "kernelspec": {
   "display_name": "base",
   "language": "python",
   "name": "python3"
  },
  "language_info": {
   "codemirror_mode": {
    "name": "ipython",
    "version": 3
   },
   "file_extension": ".py",
   "mimetype": "text/x-python",
   "name": "python",
   "nbconvert_exporter": "python",
   "pygments_lexer": "ipython3",
   "version": "3.11.3"
  }
 },
 "nbformat": 4,
 "nbformat_minor": 2
}
